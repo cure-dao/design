{
 "cells": [
  {
   "cell_type": "code",
   "execution_count": 3,
   "id": "4b3f7596-e248-48fe-9a37-1925b1b82b55",
   "metadata": {},
   "outputs": [
    {
     "ename": "ModuleNotFoundError",
     "evalue": "No module named 'pandas'",
     "output_type": "error",
     "traceback": [
      "\u001b[1;31m---------------------------------------------------------------------------\u001b[0m",
      "\u001b[1;31mModuleNotFoundError\u001b[0m                       Traceback (most recent call last)",
      "Input \u001b[1;32mIn [3]\u001b[0m, in \u001b[0;36m<module>\u001b[1;34m\u001b[0m\n\u001b[0;32m      1\u001b[0m \u001b[38;5;66;03m#import libraries\u001b[39;00m\n\u001b[1;32m----> 2\u001b[0m \u001b[38;5;28;01mimport\u001b[39;00m \u001b[38;5;21;01mpandas\u001b[39;00m \u001b[38;5;28;01mas\u001b[39;00m \u001b[38;5;21;01mpd\u001b[39;00m\n\u001b[0;32m      3\u001b[0m \u001b[38;5;28;01mimport\u001b[39;00m \u001b[38;5;21;01mnumpy\u001b[39;00m \u001b[38;5;28;01mas\u001b[39;00m \u001b[38;5;21;01mnp\u001b[39;00m\n\u001b[0;32m      4\u001b[0m \u001b[38;5;28;01mimport\u001b[39;00m \u001b[38;5;21;01mmatplotlib\u001b[39;00m\u001b[38;5;21;01m.\u001b[39;00m\u001b[38;5;21;01mpyplot\u001b[39;00m \u001b[38;5;28;01mas\u001b[39;00m \u001b[38;5;21;01mplt\u001b[39;00m\n",
      "\u001b[1;31mModuleNotFoundError\u001b[0m: No module named 'pandas'"
     ]
    }
   ],
   "source": [
    "#import libraries\n",
    "import pandas as pd\n",
    "import numpy as np\n",
    "import matplotlib.pyplot as plt\n",
    "import seaborn as sns"
   ]
  },
  {
   "cell_type": "code",
   "execution_count": null,
   "id": "2d0a3a0f-9613-4f38-a7f9-99157e2446d6",
   "metadata": {},
   "outputs": [],
   "source": [
    "df=pd.read_csv(r'arthritis_factor_measurements_matrix_zeros.csv')\n",
    "df.head()"
   ]
  },
  {
   "cell_type": "code",
   "execution_count": null,
   "id": "b409dfae-55b9-4286-a3a1-10fead5241fc",
   "metadata": {},
   "outputs": [],
   "source": [
    "df.rename(columns={'Arthritis (/5)': 'Arthritis_Severity'}, inplace=True)"
   ]
  },
  {
   "cell_type": "code",
   "execution_count": null,
   "id": "984d8ae5-8b7d-41bd-8331-319ea97cf6c0",
   "metadata": {},
   "outputs": [],
   "source": [
    "df.columns"
   ]
  },
  {
   "cell_type": "code",
   "execution_count": null,
   "id": "4c76f18d-973b-4787-b5b9-4f9910801962",
   "metadata": {},
   "outputs": [],
   "source": [
    "from sklearn.preprocessing import LabelEncoder\n",
    "\n",
    "lb = LabelEncoder() \n",
    "df['Arthritis_Severity'] = lb.fit_transform(df['Arthritis_Severity'])\n",
    "df"
   ]
  },
  {
   "cell_type": "code",
   "execution_count": null,
   "id": "c93ed402-6be3-453f-bc27-207bf7c33015",
   "metadata": {},
   "outputs": [],
   "source": [
    "df.describe()\n",
    "#describe function gives us count value mean,standard value, min, 25%, 50%, 75%, max."
   ]
  },
  {
   "cell_type": "code",
   "execution_count": null,
   "id": "5b10b2b9-27bf-48a1-b0a9-f0be002b2e95",
   "metadata": {},
   "outputs": [],
   "source": [
    "df.describe().T        #T - transform."
   ]
  },
  {
   "cell_type": "markdown",
   "id": "04bbacd5-edb4-4f7e-9c47-f086b9fbcc1e",
   "metadata": {},
   "source": [
    "1.Pair Plot"
   ]
  },
  {
   "cell_type": "code",
   "execution_count": null,
   "id": "a3654849-a752-4305-b372-98369f7dfa87",
   "metadata": {},
   "outputs": [],
   "source": [
    "sns.pairplot(df,vars=['Omega 3 Fish Oil Platinum (g)','Vitamin D3 (IU)','5 HTP (mg)','Acetyl L-Carnitine by MRM (mg)'],hue='Arthritis_Severity')\n",
    "plt.show()"
   ]
  },
  {
   "cell_type": "markdown",
   "id": "dd8e845f-567c-4533-b855-b39a5c805fa8",
   "metadata": {},
   "source": [
    "2.Count Plot"
   ]
  },
  {
   "cell_type": "code",
   "execution_count": null,
   "id": "a8119e28-9538-4ba2-bf4b-1cf0ca072ea9",
   "metadata": {},
   "outputs": [],
   "source": [
    "sns.countplot(df['Arthritis_Severity'])\n",
    "plt.show()"
   ]
  },
  {
   "cell_type": "markdown",
   "id": "11afb4c2-534a-4bba-96ef-ca0a0066b2f2",
   "metadata": {},
   "source": [
    "3. Scatter Plot"
   ]
  },
  {
   "cell_type": "code",
   "execution_count": null,
   "id": "75bcc3ec-d033-4e06-aa62-6942859caa24",
   "metadata": {},
   "outputs": [],
   "source": [
    "sns.scatterplot(x='Omega 3 Fish Oil Platinum (g)',y='Acetyl L-Carnitine by MRM (mg)',hue='Arthritis_Severity',data=df)\n",
    "plt.show()"
   ]
  },
  {
   "cell_type": "code",
   "execution_count": null,
   "id": "31b8f94d-e701-4a42-b8a1-ddffdf81b02a",
   "metadata": {},
   "outputs": [],
   "source": [
    "plt.figure(figsize=(20,10))        #width and height\n",
    "sns.heatmap(df.corr(),annot=True)  #annotations - true\n",
    "plt.show()"
   ]
  },
  {
   "cell_type": "code",
   "execution_count": null,
   "id": "8d4fae14-e41e-4c39-ab52-2f2f2825c79b",
   "metadata": {},
   "outputs": [],
   "source": []
  }
 ],
 "metadata": {
  "kernelspec": {
   "display_name": "Python 3",
   "language": "python",
   "name": "python3"
  },
  "language_info": {
   "codemirror_mode": {
    "name": "ipython",
    "version": 3
   },
   "file_extension": ".py",
   "mimetype": "text/x-python",
   "name": "python",
   "nbconvert_exporter": "python",
   "pygments_lexer": "ipython3",
   "version": "3.7.9"
  }
 },
 "nbformat": 4,
 "nbformat_minor": 5
}
